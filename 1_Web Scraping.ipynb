{
 "cells": [
  {
   "cell_type": "code",
   "execution_count": 1,
   "id": "02ea47f3",
   "metadata": {},
   "outputs": [],
   "source": [
    "#Operating system\n",
    "from pathlib import Path\n",
    "\n",
    "#Print outputs\n",
    "from pprint import pprint\n",
    "\n",
    "#Accessing APIs and URLs\n",
    "import requests\n",
    "\n",
    "#Fetch the URL\n",
    "from bs4 import BeautifulSoup \n",
    "from urllib.request import urlopen\n",
    "\n",
    "#Regular expression\n",
    "import re\n",
    "\n",
    "#Extract contents from PDF files\n",
    "import pdfplumber\n",
    "\n",
    "#Data processing\n",
    "import pandas as pd"
   ]
  },
  {
   "cell_type": "code",
   "execution_count": 2,
   "id": "6964037e",
   "metadata": {},
   "outputs": [],
   "source": [
    "#Define URL for web scraping\n",
    "url = \"https://www.americanrhetoric.com/barackobamaspeeches.htm\"\n",
    "html = urlopen(url).read()\n",
    "\n",
    "#Cook the soup\n",
    "soup = BeautifulSoup(html, 'html.parser')"
   ]
  },
  {
   "cell_type": "code",
   "execution_count": 3,
   "id": "522722ca",
   "metadata": {},
   "outputs": [
    {
     "name": "stdout",
     "output_type": "stream",
     "text": [
      "Total number of PDFs: 436\n"
     ]
    }
   ],
   "source": [
    "#Extract all PDF links from the website\n",
    "pdf_links = []\n",
    "for link in soup.find_all('a'):\n",
    "    current_link = link.get('href')\n",
    "    if current_link.endswith('pdf'):\n",
    "        pdf_links.append(r\"https://www.americanrhetoric.com/\" + current_link)\n",
    "#print the number of PDFs\n",
    "print(\"Total number of PDFs:\", len(pdf_links))"
   ]
  },
  {
   "cell_type": "code",
   "execution_count": 4,
   "id": "34203197",
   "metadata": {},
   "outputs": [
    {
     "name": "stdout",
     "output_type": "stream",
     "text": [
      "['https://www.americanrhetoric.com/speeches/PDFFiles/Barack%20Obama%20-%202004%20DNC%20Address.pdf',\n",
      " 'https://www.americanrhetoric.com/speeches/PDFFiles/Barack%20Obama%20-%20Senate%20Speech%20on%20Ohio%20Electoral%20Vote.pdf',\n",
      " 'https://www.americanrhetoric.com/speeches/PDFFiles/Barack%20Obama%20-%20Knox%20College%20Commencement.pdf',\n",
      " 'https://www.americanrhetoric.com/speeches/PDFFiles/Barack%20Obama%20-%20Rosa%20Parks.pdf',\n",
      " 'https://www.americanrhetoric.com/speeches/PDFFiles/Barack%20Obama%20-%20Senate%20Floor%20Speech%20on%20the%20Patriot%20Act.pdf']\n"
     ]
    }
   ],
   "source": [
    "#Print first 5 rows of links to check\n",
    "pprint(pdf_links[:5])"
   ]
  },
  {
   "cell_type": "code",
   "execution_count": 5,
   "id": "52f90eba",
   "metadata": {},
   "outputs": [],
   "source": [
    "#Function of getting titles of speech PDFs\n",
    "def get_pdf_name(link):\n",
    "    pdfname = Path(link).parts[-1]\n",
    "    pat = re.compile(r\"%20\")\n",
    "    pdfname = pat.sub(r\"_\", pdfname)#Using regular expression to replace \"%20\" with \"_\"\n",
    "    if pdfname.count('-') == 1:\n",
    "        pdfname = pdfname.split(\"-\")[1].strip()[1:]\n",
    "    return pdfname\n",
    "\n",
    "#Function of downloading speech PDFs    \n",
    "def get_pdf(name,content):\n",
    "    pdf = open(Path.cwd() / \"pdf_files\" / name, 'wb')\n",
    "    pdf.write(content)\n",
    "    return pdf.close()\n",
    "\n",
    "#The downloaded pdf files are stored in the path named \"pdf_files\" under the working path"
   ]
  },
  {
   "cell_type": "code",
   "execution_count": 6,
   "id": "d10584fe",
   "metadata": {},
   "outputs": [
    {
     "name": "stdout",
     "output_type": "stream",
     "text": [
      "All PDF files downloaded\n"
     ]
    }
   ],
   "source": [
    "#Get all PDF files\n",
    "i=1\n",
    "for my_link in pdf_links:\n",
    "\n",
    "    #Avoid the 403 error\n",
    "    headers = {\"User-Agent\" : \"Mozilla/5.0 (Windows NT 10.0; Win64; x64; rv:99.0) Gecko/20100101 Firefox/99.0\"}\n",
    "    #Make a request to the url page, and return the status code\n",
    "    response = requests.get(my_link, headers=headers)\n",
    "        \n",
    "    #Use function 'get_pdf_name' to get the titles of PDF files\n",
    "    pdfname = get_pdf_name(my_link)\n",
    "    \n",
    "    #Use function 'get_pdf‘ to download PDF files \n",
    "    get_pdf(pdfname,response.content)\n",
    "          \n",
    "print(\"All PDF files downloaded\")"
   ]
  },
  {
   "cell_type": "code",
   "execution_count": 7,
   "id": "9c13071e",
   "metadata": {},
   "outputs": [],
   "source": [
    "#Create a list of PDF paths\n",
    "pdf_dir = Path.cwd()/ \"pdf_files\"\n",
    "pdfpaths = list(pdf_dir.glob('*.pdf'))  "
   ]
  },
  {
   "cell_type": "code",
   "execution_count": 8,
   "id": "3bec2a26",
   "metadata": {},
   "outputs": [],
   "source": [
    "#Create a blank dictionary named \"speeches\"\n",
    "speeches= {'date': [], 'title': [], 'content':[]}"
   ]
  },
  {
   "cell_type": "code",
   "execution_count": 9,
   "id": "ec4311e2",
   "metadata": {},
   "outputs": [],
   "source": [
    "#Function of getting the date of a speech\n",
    "def get_pdf_date(first_page):\n",
    "    pattern = re.compile(r\"\\d{1,2}\\s\\w{1,10}\\s\\d{4}\")\n",
    "    date = pattern.findall(first_page)\n",
    "    date = ''.join(date)\n",
    "    return date\n",
    "\n",
    "#Function of text processing of the first page of a speech(deleting the page header and footer)\n",
    "def first_page_processing(first_page):\n",
    "    first_page = re.sub(\".*Page\\s..\",\"\", first_page)\n",
    "    first_page = re.sub(\"\\d{1,2}\\s\\w{1,10},?\\s\\d{4}.*\",\"\",first_page)\n",
    "    first_page = re.sub(\"\\n\",\"\", first_page)\n",
    "    first_page = re.sub(\".*audio]?\",\"\",first_page)\n",
    "    first_page = re.sub(\".*Delivered\",\"\",first_page,flags=re.I)\n",
    "    return first_page\n",
    "\n",
    "#Function of text processing of other pages of a speech(deleting page headers and footers)\n",
    "def other_page_processing(page):\n",
    "    page = re.sub(\".*Page\\s..\",\"\",page)\n",
    "    page = re.sub(\"\\n\",\"\",page)\n",
    "    page = re.sub(\"AA RRmmeerriiccaann hheettoorriicc\\.\\.ccoomm\",\"\",page)\n",
    "    page = re.sub(\"AAmmeerriiccaannRRhheettoorriicc\\.\\.ccoomm\",\"\",page)\n",
    "    page = re.sub(\"\\s{2,10}\",\"\",page)\n",
    "    return page\n",
    "\n",
    "#The header and footer formats of the first page and other pages are quite different and processed with different regular expressions"
   ]
  },
  {
   "cell_type": "code",
   "execution_count": 10,
   "id": "1bec9008",
   "metadata": {},
   "outputs": [
    {
     "name": "stdout",
     "output_type": "stream",
     "text": [
      "Finished extracting speeches from PDF files\n"
     ]
    }
   ],
   "source": [
    "#Write the contents of speech PDFs to the dictionary \"speeches\"\n",
    "for pdfpath in pdfpaths:    \n",
    "    pdf = pdfplumber.open(pdfpath)\n",
    "    full_text = ''\n",
    "    other_pages = ''\n",
    "    \n",
    "    for i in range(len(pdf.pages)):     \n",
    "        if i == 0:\n",
    "            #Extract the raw text of the first page\n",
    "            first_page = pdf.pages[0].extract_text()\n",
    "            \n",
    "            #Get the date of a speech from the first page \n",
    "            date = get_pdf_date(first_page)\n",
    "            \n",
    "            #Write the date to the key \"date\" \n",
    "            speeches['date'].append(date)\n",
    "            \n",
    "            #Text processing of the first page\n",
    "            first_page = first_page_processing(first_page)\n",
    "            \n",
    "        else:\n",
    "            #Extract the raw text of the first page\n",
    "            page = pdf.pages[i].extract_text()\n",
    "            \n",
    "            #Text processing of the first page\n",
    "            page = other_page_processing(page)\n",
    "            other_pages = other_pages + page\n",
    "            \n",
    "    #Get the full text of speeches after processed    \n",
    "    full_text = first_page + other_pages\n",
    "    #Write the full text to the key \"content\" \n",
    "    speeches['content'].append(full_text)\n",
    "    \n",
    "    #Get the title of the speeches and write to the key \"title\"\n",
    "    title = pdfpath.parts[-1].split(\".\")[0]    \n",
    "    speeches['title'].append(title)\n",
    "\n",
    "#The process of extracting speeches from PDFs is done\n",
    "print(\"Finished extracting speeches from PDF files\")"
   ]
  },
  {
   "cell_type": "code",
   "execution_count": 11,
   "id": "e7f00aa7",
   "metadata": {},
   "outputs": [],
   "source": [
    "#Convert dictionary \"speeches\" into dataframe \"speech_df\" \n",
    "speech_df = pd.DataFrame(speeches)"
   ]
  },
  {
   "cell_type": "code",
   "execution_count": 12,
   "id": "37ab48a0",
   "metadata": {},
   "outputs": [
    {
     "name": "stdout",
     "output_type": "stream",
     "text": [
      "    date                                  title\n",
      "15                                   AIPAC_2012\n",
      "155       Go_Presidential_Election_Outcome_2016\n",
      "185                           Indian_Parliament\n",
      "241                        MH_Flight_17_Downing\n",
      "279                            NY_NJ_Explosions\n",
      "308            Post_Iran_Nuclear_Accord_Presser\n",
      "322          Recovery_and_Reinvestment_Act_2016\n"
     ]
    }
   ],
   "source": [
    "#Obviously,this dataframe had certain 'date' data missing.\n",
    "#Find out the following dates need to be corrected after visually checking\n",
    "print(speech_df.loc[[15,155,185,241,279,308,322],['date','title']])"
   ]
  },
  {
   "cell_type": "code",
   "execution_count": 13,
   "id": "63363434",
   "metadata": {},
   "outputs": [],
   "source": [
    "#Correct the missing dates\n",
    "speech_df.loc[speech_df.title=='AIPAC_2012','date'] = '4 March 2012'\n",
    "speech_df.loc[speech_df.title=='Go_Presidential_Election_Outcome_2016','date'] = '9 November 2016'\n",
    "speech_df.loc[speech_df.title=='Indian_Parliament','date'] = '8 November 2010'\n",
    "speech_df.loc[speech_df.title=='MH_Flight_17_Downing','date'] = '18 July 2014'\n",
    "speech_df.loc[speech_df.title=='Post_Iran_Nuclear_Accord_Presser','date'] = '19 September 2016'\n",
    "speech_df.loc[speech_df.title=='NY_NJ_Explosions','date'] = '26 February 2016'\n",
    "speech_df.loc[speech_df.title=='Recovery_and_Reinvestment_Act_2016','date'] = '15 July 2015'"
   ]
  },
  {
   "cell_type": "code",
   "execution_count": 14,
   "id": "036cb92b",
   "metadata": {},
   "outputs": [
    {
     "name": "stdout",
     "output_type": "stream",
     "text": [
      "                  date                                  title\n",
      "15        4 March 2012                             AIPAC_2012\n",
      "155    9 November 2016  Go_Presidential_Election_Outcome_2016\n",
      "185    8 November 2010                      Indian_Parliament\n",
      "241       18 July 2014                   MH_Flight_17_Downing\n",
      "279   26 February 2016                       NY_NJ_Explosions\n",
      "308  19 September 2016       Post_Iran_Nuclear_Accord_Presser\n",
      "322       15 July 2015     Recovery_and_Reinvestment_Act_2016\n"
     ]
    }
   ],
   "source": [
    "#Check\n",
    "print(speech_df.loc[[15,155,185,241,279,308,322],['date','title']])"
   ]
  },
  {
   "cell_type": "code",
   "execution_count": 15,
   "id": "d87f1870",
   "metadata": {},
   "outputs": [
    {
     "data": {
      "text/html": [
       "<div>\n",
       "<style scoped>\n",
       "    .dataframe tbody tr th:only-of-type {\n",
       "        vertical-align: middle;\n",
       "    }\n",
       "\n",
       "    .dataframe tbody tr th {\n",
       "        vertical-align: top;\n",
       "    }\n",
       "\n",
       "    .dataframe thead th {\n",
       "        text-align: right;\n",
       "    }\n",
       "</style>\n",
       "<table border=\"1\" class=\"dataframe\">\n",
       "  <thead>\n",
       "    <tr style=\"text-align: right;\">\n",
       "      <th></th>\n",
       "      <th>date</th>\n",
       "      <th>title</th>\n",
       "      <th>content</th>\n",
       "    </tr>\n",
       "  </thead>\n",
       "  <tbody>\n",
       "    <tr>\n",
       "      <th>0</th>\n",
       "      <td>2004-07-27</td>\n",
       "      <td>2004_DNC_Address</td>\n",
       "      <td>On behalf of the great state of Illinois, cro...</td>\n",
       "    </tr>\n",
       "    <tr>\n",
       "      <th>1</th>\n",
       "      <td>2010-02-01</td>\n",
       "      <td>2010_Budget_to_Congress</td>\n",
       "      <td>Good morning, everybody. This morning, I sent...</td>\n",
       "    </tr>\n",
       "    <tr>\n",
       "      <th>2</th>\n",
       "      <td>2016-09-11</td>\n",
       "      <td>911_After_15_Years</td>\n",
       "      <td>Good morning.  Scripture tells us, “Let not s...</td>\n",
       "    </tr>\n",
       "    <tr>\n",
       "      <th>3</th>\n",
       "      <td>2009-09-11</td>\n",
       "      <td>911_Pentagon_Memorial_2009</td>\n",
       "      <td>Secretary Gates, Admiral Mullen and members o...</td>\n",
       "    </tr>\n",
       "    <tr>\n",
       "      <th>4</th>\n",
       "      <td>2010-09-11</td>\n",
       "      <td>911_Pentagon_Memorial_2010</td>\n",
       "      <td>Secretary Gates, Admiral Mullen and members o...</td>\n",
       "    </tr>\n",
       "  </tbody>\n",
       "</table>\n",
       "</div>"
      ],
      "text/plain": [
       "        date                       title  \\\n",
       "0 2004-07-27            2004_DNC_Address   \n",
       "1 2010-02-01     2010_Budget_to_Congress   \n",
       "2 2016-09-11          911_After_15_Years   \n",
       "3 2009-09-11  911_Pentagon_Memorial_2009   \n",
       "4 2010-09-11  911_Pentagon_Memorial_2010   \n",
       "\n",
       "                                             content  \n",
       "0   On behalf of the great state of Illinois, cro...  \n",
       "1   Good morning, everybody. This morning, I sent...  \n",
       "2   Good morning.  Scripture tells us, “Let not s...  \n",
       "3   Secretary Gates, Admiral Mullen and members o...  \n",
       "4   Secretary Gates, Admiral Mullen and members o...  "
      ]
     },
     "execution_count": 15,
     "metadata": {},
     "output_type": "execute_result"
    }
   ],
   "source": [
    "#Change the format of 'date' as the datetime formate\n",
    "speech_df['date'] = pd.to_datetime(speech_df['date'], dayfirst=True, format=\"%d %B %Y\")\n",
    "speech_df.head()"
   ]
  },
  {
   "cell_type": "code",
   "execution_count": 16,
   "id": "e3ca490f",
   "metadata": {},
   "outputs": [],
   "source": [
    "#Because of President Obama's tenure，only select contents whose dates are during the period from '2009-1-20' to '2017-1-10'.\n",
    "speech_df_selected = speech_df[(speech_df['date'] > '2009-1-1') &\n",
    "          (speech_df['date'] <= '2017-1-10')]"
   ]
  },
  {
   "cell_type": "code",
   "execution_count": 17,
   "id": "7d304dd2",
   "metadata": {},
   "outputs": [
    {
     "data": {
      "text/html": [
       "<div>\n",
       "<style scoped>\n",
       "    .dataframe tbody tr th:only-of-type {\n",
       "        vertical-align: middle;\n",
       "    }\n",
       "\n",
       "    .dataframe tbody tr th {\n",
       "        vertical-align: top;\n",
       "    }\n",
       "\n",
       "    .dataframe thead th {\n",
       "        text-align: right;\n",
       "    }\n",
       "</style>\n",
       "<table border=\"1\" class=\"dataframe\">\n",
       "  <thead>\n",
       "    <tr style=\"text-align: right;\">\n",
       "      <th></th>\n",
       "      <th>date</th>\n",
       "      <th>title</th>\n",
       "      <th>content</th>\n",
       "    </tr>\n",
       "  </thead>\n",
       "  <tbody>\n",
       "    <tr>\n",
       "      <th>1</th>\n",
       "      <td>2010-02-01</td>\n",
       "      <td>2010_Budget_to_Congress</td>\n",
       "      <td>Good morning, everybody. This morning, I sent...</td>\n",
       "    </tr>\n",
       "    <tr>\n",
       "      <th>2</th>\n",
       "      <td>2016-09-11</td>\n",
       "      <td>911_After_15_Years</td>\n",
       "      <td>Good morning.  Scripture tells us, “Let not s...</td>\n",
       "    </tr>\n",
       "    <tr>\n",
       "      <th>3</th>\n",
       "      <td>2009-09-11</td>\n",
       "      <td>911_Pentagon_Memorial_2009</td>\n",
       "      <td>Secretary Gates, Admiral Mullen and members o...</td>\n",
       "    </tr>\n",
       "    <tr>\n",
       "      <th>4</th>\n",
       "      <td>2010-09-11</td>\n",
       "      <td>911_Pentagon_Memorial_2010</td>\n",
       "      <td>Secretary Gates, Admiral Mullen and members o...</td>\n",
       "    </tr>\n",
       "    <tr>\n",
       "      <th>5</th>\n",
       "      <td>2011-03-18</td>\n",
       "      <td>Address_on_Libya</td>\n",
       "      <td>Good afternoon, everybody.I want to take thi...</td>\n",
       "    </tr>\n",
       "  </tbody>\n",
       "</table>\n",
       "</div>"
      ],
      "text/plain": [
       "        date                       title  \\\n",
       "1 2010-02-01     2010_Budget_to_Congress   \n",
       "2 2016-09-11          911_After_15_Years   \n",
       "3 2009-09-11  911_Pentagon_Memorial_2009   \n",
       "4 2010-09-11  911_Pentagon_Memorial_2010   \n",
       "5 2011-03-18            Address_on_Libya   \n",
       "\n",
       "                                             content  \n",
       "1   Good morning, everybody. This morning, I sent...  \n",
       "2   Good morning.  Scripture tells us, “Let not s...  \n",
       "3   Secretary Gates, Admiral Mullen and members o...  \n",
       "4   Secretary Gates, Admiral Mullen and members o...  \n",
       "5    Good afternoon, everybody.I want to take thi...  "
      ]
     },
     "execution_count": 17,
     "metadata": {},
     "output_type": "execute_result"
    }
   ],
   "source": [
    "#Print the first five rows of \"speech_df\"\n",
    "speech_df_selected.head()"
   ]
  },
  {
   "cell_type": "code",
   "execution_count": 18,
   "id": "8e8fbc35",
   "metadata": {},
   "outputs": [
    {
     "data": {
      "text/plain": [
       "405"
      ]
     },
     "execution_count": 18,
     "metadata": {},
     "output_type": "execute_result"
    }
   ],
   "source": [
    "#Print the number of speeches after selecting \n",
    "speech_df_selected.shape[0]"
   ]
  },
  {
   "cell_type": "code",
   "execution_count": 19,
   "id": "e7c6e72a",
   "metadata": {},
   "outputs": [],
   "source": [
    "#Write the data frame to a txt file named \"raw_speeches_df.txt\"\n",
    "speech_df_selected.to_csv(Path.cwd()/\"raw_speeches_df.txt\", header= True, index= False) "
   ]
  }
 ],
 "metadata": {
  "kernelspec": {
   "display_name": "Python 3 (ipykernel)",
   "language": "python",
   "name": "python3"
  },
  "language_info": {
   "codemirror_mode": {
    "name": "ipython",
    "version": 3
   },
   "file_extension": ".py",
   "mimetype": "text/x-python",
   "name": "python",
   "nbconvert_exporter": "python",
   "pygments_lexer": "ipython3",
   "version": "3.9.7"
  }
 },
 "nbformat": 4,
 "nbformat_minor": 5
}
